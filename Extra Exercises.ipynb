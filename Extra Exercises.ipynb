{
 "cells": [
  {
   "cell_type": "code",
   "execution_count": 48,
   "id": "437c2da8-766e-4e07-9e39-5369fa213115",
   "metadata": {},
   "outputs": [
    {
     "name": "stdin",
     "output_type": "stream",
     "text": [
      "Number of rows:  2\n",
      "Numbber of columns 2\n"
     ]
    },
    {
     "name": "stdout",
     "output_type": "stream",
     "text": [
      "[[6, 7], [9, 8]]\n"
     ]
    }
   ],
   "source": [
    "#A1\n",
    "import random as  rd\n",
    "\n",
    "matrix = []\n",
    "def random_integer_matrix(nrows, ncols):\n",
    "    for j in range(nrows):\n",
    "        row = []\n",
    "        for i  in range(ncols):\n",
    "            element =  rd.randint(1,9)\n",
    "            row.append(element)\n",
    "        matrix.append(row)\n",
    "    print(matrix)\n",
    "nrows = int(input(\"Number of rows: \"))\n",
    "ncols = int(input(\"Numbber of columns\" ))\n",
    "random_integer_matrix(nrows, ncols)    "
   ]
  },
  {
   "cell_type": "code",
   "execution_count": 47,
   "id": "24d6b8cb-5521-473d-822b-c900987eaa72",
   "metadata": {},
   "outputs": [
    {
     "name": "stdin",
     "output_type": "stream",
     "text": [
      "How many elements do you want in the list?  5\n"
     ]
    },
    {
     "name": "stdout",
     "output_type": "stream",
     "text": [
      "List 1:  [4, 7, 2, 8, 5]\n",
      "List 2:  [6, 2, 4, 3, 9]\n",
      "[24, 14, 8, 24, 45]\n",
      "The scalar product is 115\n"
     ]
    }
   ],
   "source": [
    "#A2\n",
    "import random as rd\n",
    "n_elements = int(input(\"How many elements do you want in the list? \"))\n",
    "\n",
    "def list_generator(n_elements):\n",
    "    my_list = []\n",
    "    for i in range(n_elements):\n",
    "        element = rd.randint(1,9)\n",
    "        my_list.append(element)\n",
    "    return my_list\n",
    "my_list1 = list_generator(n_elements)\n",
    "my_list2 = list_generator(n_elements)\n",
    "print(\"List 1: \", my_list1)\n",
    "print(\"List 2: \", my_list2)\n",
    "\n",
    "def scalar_product(list1, list2):\n",
    "    matrix = []\n",
    "    sum_p = 0\n",
    "    for i in range(n_elements): \n",
    "        element = list1[i]*list2[i]\n",
    "        matrix.append(element)\n",
    "        sum_p += element\n",
    "    print(matrix)\n",
    "    print(\"The scalar product is\", sum_p)\n",
    "scalar_product(my_list1, my_list2)"
   ]
  },
  {
   "cell_type": "code",
   "execution_count": 60,
   "id": "03f307e7-ca60-4cff-9f51-cd430335e159",
   "metadata": {},
   "outputs": [
    {
     "name": "stdin",
     "output_type": "stream",
     "text": [
      "Number of rows: 5\n",
      "Numbber of columns: 5\n"
     ]
    },
    {
     "name": "stdout",
     "output_type": "stream",
     "text": [
      "The original matrix is  [[9, 7, 9, 8, 1], [4, 3, 2, 3, 4], [7, 6, 5, 4, 3], [6, 3, 8, 6, 3], [3, 3, 8, 1, 8]]\n",
      "The transposed matrix is  [[9, 4, 7, 6, 3], [7, 3, 6, 3, 3], [9, 2, 5, 8, 8], [8, 3, 4, 6, 1], [1, 4, 3, 3, 8]]\n"
     ]
    }
   ],
   "source": [
    "#A3 (do not assume the size of the matrix, figure it out within the function)\n",
    "import random as rd\n",
    "\n",
    "matrix = []\n",
    "def random_integer_matrix(nrows, ncols):\n",
    "    for j in range(nrows):\n",
    "        row = []\n",
    "        for i  in range(ncols):\n",
    "            element =  rd.randint(1,9)\n",
    "            row.append(element)\n",
    "        matrix.append(row)\n",
    "    return matrix\n",
    "nrows = int(input(\"Number of rows:\"))\n",
    "ncols = int(input(\"Numbber of columns:\" ))\n",
    "\n",
    "orig_matrix = random_integer_matrix(nrows, ncols)\n",
    "print(\"The original matrix is \", orig_matrix)\n",
    "\n",
    "t_matrix = []\n",
    "def transpose_matrix(orig_matrix):\n",
    "    n_rows = len(orig_matrix)\n",
    "    n_cols = len(orig_matrix[0]) #as with all matrices, the number of columns is the same for all rows of the matrix\n",
    "    for i in range(n_cols):\n",
    "        t_matrix_row = []\n",
    "        for j in range(n_rows):\n",
    "            element = orig_matrix[j][i]\n",
    "            t_matrix_row.append(element)\n",
    "        t_matrix.append(t_matrix_row)\n",
    "    return t_matrix\n",
    "\n",
    "print(\"The transposed matrix is \", transpose_matrix(orig_matrix)) "
   ]
  },
  {
   "cell_type": "code",
   "execution_count": 9,
   "id": "be6ef4a9-0dca-47da-a87c-c648eb314c8b",
   "metadata": {},
   "outputs": [
    {
     "name": "stdin",
     "output_type": "stream",
     "text": [
      "Number of rows of matrix A: 2\n",
      "Number of columns of matrix A: 2\n",
      "Number of rows of matrix B: 2\n",
      "Number of columns of matrix B: 2\n"
     ]
    },
    {
     "name": "stdout",
     "output_type": "stream",
     "text": [
      "Matrix A: [[7, 7], [5, 9]]\n",
      "Matrix B: [[8, 5], [6, 4]]\n",
      "A x B =  [[98, 63], [94, 61]]\n"
     ]
    }
   ],
   "source": [
    "import random as rd\n",
    "\n",
    "def random_integer_matrix(nrows, ncols):\n",
    "    matrix = []\n",
    "    for j in range(nrows):\n",
    "        row = []\n",
    "        for i  in range(ncols):\n",
    "            element =  rd.randint(1,9)\n",
    "            row.append(element)\n",
    "        matrix.append(row)\n",
    "    return matrix\n",
    "n_l_rows = int(input(\"Number of rows of matrix A:\"))\n",
    "n_l_cols = int(input(\"Number of columns of matrix A:\" ))\n",
    "n_r_rows = int(input(\"Number of rows of matrix B:\"))\n",
    "n_r_cols = int(input(\"Number of columns of matrix B:\" ))\n",
    "\n",
    "l_matrix = random_integer_matrix(n_l_rows, n_l_cols)\n",
    "r_matrix = random_integer_matrix(n_r_rows, n_r_cols)\n",
    "\n",
    "print(\"Matrix A:\", l_matrix)\n",
    "print(\"Matrix B:\", r_matrix)\n",
    "\n",
    "def transpose_matrix(orig_matrix):\n",
    "    t_matrix = []\n",
    "    n_rows = len(orig_matrix)\n",
    "    n_cols = len(orig_matrix[0]) #as with all matrices, the number of columns is the same for all rows of the matrix\n",
    "    for i in range(n_cols):\n",
    "        t_matrix_row = []\n",
    "        for j in range(n_rows):\n",
    "            element = orig_matrix[j][i]\n",
    "            t_matrix_row.append(element)\n",
    "        t_matrix.append(t_matrix_row)\n",
    "    return t_matrix\n",
    "\n",
    "def scalar_product(list1, list2):\n",
    "    matrix = []\n",
    "    sum_p = 0\n",
    "    for i in range(n_l_rows): \n",
    "        element = list1[i]*list2[i]\n",
    "        matrix.append(element)\n",
    "        sum_p += element\n",
    "    return sum_p\n",
    "\n",
    "def matrix_multiply(left_matrix, right_matrix):\n",
    "    matrix = []\n",
    "    if n_l_rows != n_r_cols:\n",
    "        print(\"The number of rows of the left matrix should be equal to the number of rows of the right matrix\")\n",
    "    else:\n",
    "        t_r_matrix = transpose_matrix(right_matrix) #get the transpose of the right matrix  \n",
    "        for i in range(n_l_rows):\n",
    "            row = []\n",
    "            for j in range(n_r_cols):\n",
    "                element = scalar_product(left_matrix[i], t_r_matrix[j]) \n",
    "                row.append(element)\n",
    "            matrix.append(row)\n",
    "        print(\"A x B = \", matrix)\n",
    "        \n",
    "matrix_multiply(l_matrix, r_matrix)"
   ]
  },
  {
   "cell_type": "code",
   "execution_count": null,
   "id": "8f93981d-e2a0-4325-919c-6a00dd2c2060",
   "metadata": {},
   "outputs": [],
   "source": []
  }
 ],
 "metadata": {
  "kernelspec": {
   "display_name": "Python 3 (ipykernel)",
   "language": "python",
   "name": "python3"
  },
  "language_info": {
   "codemirror_mode": {
    "name": "ipython",
    "version": 3
   },
   "file_extension": ".py",
   "mimetype": "text/x-python",
   "name": "python",
   "nbconvert_exporter": "python",
   "pygments_lexer": "ipython3",
   "version": "3.11.4"
  }
 },
 "nbformat": 4,
 "nbformat_minor": 5
}
