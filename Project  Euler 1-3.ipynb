{
 "cells": [
  {
   "cell_type": "code",
   "execution_count": 5,
   "id": "ac1c9819-fe7e-484a-ad9f-3f4ac452f866",
   "metadata": {},
   "outputs": [
    {
     "name": "stdout",
     "output_type": "stream",
     "text": [
      "The sum of all multiples of 3 and 5 below 1000 is 233168\n"
     ]
    }
   ],
   "source": [
    "#Problem 1 \n",
    "sum1 = 0 \n",
    "for i in range(1000): \n",
    "    if i%3 == 0 or i%5 ==0: #checks for multiples of 3 or 5\n",
    "        sum1 +=i            #adds up each multiple\n",
    "    else:\n",
    "        pass\n",
    "    i += 1\n",
    "print(\"The sum of all multiples of 3 and 5 below 1000 is\", sum1)"
   ]
  },
  {
   "cell_type": "code",
   "execution_count": 16,
   "id": "b77db7ef-e3d1-4f2c-8798-1d28df79e345",
   "metadata": {},
   "outputs": [
    {
     "name": "stdout",
     "output_type": "stream",
     "text": [
      "2\n",
      "8\n",
      "34\n",
      "144\n",
      "610\n",
      "2584\n",
      "10946\n",
      "46368\n",
      "196418\n",
      "832040\n",
      "3524578\n",
      "The sum of all even terms in the Fibonacci series that does not exceed 4,000,000 is 4613732\n"
     ]
    }
   ],
   "source": [
    "#Problem 2\n",
    "i =0 #counter\n",
    "term1 = 0\n",
    "term2 = 1\n",
    "fib = 0\n",
    "sum_f = 0\n",
    "while i<100:\n",
    "    fib = term1 + term2 #takes the value of the next term\n",
    "    if fib>4000000:\n",
    "        break\n",
    "    elif fib%2==0:\n",
    "        sum_f += fib \n",
    "    else:\n",
    "        pass\n",
    "    term1, term2 = term2, fib #these are the terms that will add up to make the next term\n",
    "    i+=1\n",
    "print(\"The sum of all even terms in the Fibonacci series that does not exceed 4,000,000 is\", sum_f)"
   ]
  },
  {
   "cell_type": "code",
   "execution_count": 25,
   "id": "0c173330-b0a9-483b-95f9-e73420914a52",
   "metadata": {},
   "outputs": [
    {
     "name": "stdout",
     "output_type": "stream",
     "text": [
      "Factors:  [71, 839, 1471, 6857]\n",
      "The largest factorr is  6857\n"
     ]
    }
   ],
   "source": [
    "#Problem 3\n",
    "num = 600851475143\n",
    "factors = []\n",
    "'''Note that to find the prime factors of a number, first keep dividing by the smallest prime (2), then once indivisible, \n",
    "divide by the next prime (3), then again once indivisible, divide by the next prime. This process continues until the quotient\n",
    "is one'''\n",
    "while num%2 == 0: #separate the process for 2 since 2 is the only even prime number\n",
    "    factors.append(2)\n",
    "    num /= 2\n",
    "i = 3 #start the iteration with the next smallest prime number after 2\n",
    "while i<=num: #process for checking every other factor \n",
    "    if num%i == 0:\n",
    "        factors.append(i)\n",
    "        num /= i\n",
    "    else:\n",
    "        pass\n",
    "    i+=2 #we can check only the odd numbers since every other even number isn't prime\n",
    "print(\"Factors: \", factors)\n",
    "list_length = len(factors)\n",
    "max = factors[0]\n",
    "for i in range(list_length): #gets the max value in the factors array \n",
    "    if factors[i]>max:\n",
    "        max = factors[i]\n",
    "    else:\n",
    "        pass\n",
    "print(\"The largest factorr is \", max)"
   ]
  },
  {
   "cell_type": "code",
   "execution_count": null,
   "id": "5fce55ab-5d61-4f38-8860-3031f0ce3c0d",
   "metadata": {},
   "outputs": [],
   "source": []
  }
 ],
 "metadata": {
  "kernelspec": {
   "display_name": "Python 3 (ipykernel)",
   "language": "python",
   "name": "python3"
  },
  "language_info": {
   "codemirror_mode": {
    "name": "ipython",
    "version": 3
   },
   "file_extension": ".py",
   "mimetype": "text/x-python",
   "name": "python",
   "nbconvert_exporter": "python",
   "pygments_lexer": "ipython3",
   "version": "3.11.4"
  }
 },
 "nbformat": 4,
 "nbformat_minor": 5
}
